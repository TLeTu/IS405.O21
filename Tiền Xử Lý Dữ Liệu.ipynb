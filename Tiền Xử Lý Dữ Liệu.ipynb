{
  "cells": [
    {
      "cell_type": "code",
      "execution_count": null,
      "id": "7f7df9f5-9ec9-42c4-862e-78ca86d227e5",
      "metadata": {
        "id": "7f7df9f5-9ec9-42c4-862e-78ca86d227e5"
      },
      "outputs": [],
      "source": [
        "from pyspark.sql import SparkSession\n",
        "from pyspark import SparkContext\n",
        "from pyspark.sql.functions import col, min as spark_min, max as spark_max, avg, mean, stddev, udf, when\n",
        "from pyspark.sql.types import DoubleType, IntegerType\n",
        "from pyspark.sql import Row\n",
        "import matplotlib.pyplot as plt\n",
        "import seaborn as sns\n",
        "import math\n"
      ]
    },
    {
      "cell_type": "code",
      "execution_count": null,
      "id": "0aa866ce-8a46-4564-a44a-9cd87d437fe9",
      "metadata": {
        "id": "0aa866ce-8a46-4564-a44a-9cd87d437fe9",
        "outputId": "4d0fde21-d41e-4d5f-a78b-d819133ee267"
      },
      "outputs": [
        {
          "data": {
            "text/html": [
              "\n",
              "            <div>\n",
              "                <p><b>SparkSession - in-memory</b></p>\n",
              "                \n",
              "        <div>\n",
              "            <p><b>SparkContext</b></p>\n",
              "\n",
              "            <p><a href=\"http://DESKTOP-VJLJQ69:4041\">Spark UI</a></p>\n",
              "\n",
              "            <dl>\n",
              "              <dt>Version</dt>\n",
              "                <dd><code>v3.5.1</code></dd>\n",
              "              <dt>Master</dt>\n",
              "                <dd><code>local[*]</code></dd>\n",
              "              <dt>AppName</dt>\n",
              "                <dd><code>Big Data Classification</code></dd>\n",
              "            </dl>\n",
              "        </div>\n",
              "        \n",
              "            </div>\n",
              "        "
            ],
            "text/plain": [
              "<pyspark.sql.session.SparkSession at 0x2dd5cfe0410>"
            ]
          },
          "execution_count": 2,
          "metadata": {},
          "output_type": "execute_result"
        }
      ],
      "source": [
        "spark = SparkSession.builder.appName(\"Big Data Classification\").getOrCreate()\n",
        "spark"
      ]
    },
    {
      "cell_type": "code",
      "execution_count": null,
      "id": "504e9951-2af2-419b-b45b-2bf7848c0f3f",
      "metadata": {
        "id": "504e9951-2af2-419b-b45b-2bf7848c0f3f",
        "outputId": "94fe80e4-dc78-4856-ca0a-fd0e15a8ba60"
      },
      "outputs": [
        {
          "name": "stdout",
          "output_type": "stream",
          "text": [
            "+---+---+------------+-------+---------+-------+-------+-------+----+---+-----+--------+--------+-----+--------+------------+\n",
            "| ID|age|         job|marital|education|default|balance|housing|loan|day|month|duration|campaign|pdays|previous|term_deposit|\n",
            "+---+---+------------+-------+---------+-------+-------+-------+----+---+-----+--------+--------+-----+--------+------------+\n",
            "|  1| 58|  management|      2| tertiary|      0|   2143|      1|   0|  5|  may|     261|       1|   -1|       0|           0|\n",
            "|  2| 44|  technician|      1|secondary|      0|     29|      1|   0|  5|  may|     151|       1|   -1|       0|           0|\n",
            "|  3| 33|entrepreneur|      2|secondary|      0|      2|      1|   1|  5|  may|      76|       1|   -1|       0|           0|\n",
            "|  4| 47| blue-collar|      2|  unknown|      0|   1506|      1|   0|  5|  may|      92|       1|   -1|       0|           0|\n",
            "|  5| 33|     unknown|      1|  unknown|      0|      1|      0|   0|  5|  may|     198|       1|   -1|       0|           0|\n",
            "|  6| 35|  management|      2| tertiary|      0|    231|      1|   0|  5|  may|     139|       1|   -1|       0|           0|\n",
            "|  7| 28|  management|      1| tertiary|      0|    447|      1|   1|  5|  may|     217|       1|   -1|       0|           0|\n",
            "|  8| 42|entrepreneur|      0| tertiary|      1|      2|      1|   0|  5|  may|     380|       1|   -1|       0|           0|\n",
            "|  9| 58|     retired|      2|  primary|      0|    121|      1|   0|  5|  may|      50|       1|   -1|       0|           0|\n",
            "| 10| 43|  technician|      1|secondary|      0|    593|      1|   0|  5|  may|      55|       1|   -1|       0|           0|\n",
            "| 11| 41|      admin.|      0|secondary|      0|    270|      1|   0|  5|  may|     222|       1|   -1|       0|           0|\n",
            "| 12| 29|      admin.|      1|secondary|      0|    390|      1|   0|  5|  may|     137|       1|   -1|       0|           0|\n",
            "| 13| 53|  technician|      2|secondary|      0|      6|      1|   0|  5|  may|     517|       1|   -1|       0|           0|\n",
            "| 14| 58|  technician|      2|  unknown|      0|     71|      1|   0|  5|  may|      71|       1|   -1|       0|           0|\n",
            "| 15| 57|    services|      2|secondary|      0|    162|      1|   0|  5|  may|     174|       1|   -1|       0|           0|\n",
            "| 16| 51|     retired|      2|  primary|      0|    229|      1|   0|  5|  may|     353|       1|   -1|       0|           0|\n",
            "| 17| 45|      admin.|      1|  unknown|      0|     13|      1|   0|  5|  may|      98|       1|   -1|       0|           0|\n",
            "| 18| 57| blue-collar|      2|  primary|      0|     52|      1|   0|  5|  may|      38|       1|   -1|       0|           0|\n",
            "| 19| 60|     retired|      2|  primary|      0|     60|      1|   0|  5|  may|     219|       1|   -1|       0|           0|\n",
            "| 20| 33|    services|      2|secondary|      0|      0|      1|   0|  5|  may|      54|       1|   -1|       0|           0|\n",
            "+---+---+------------+-------+---------+-------+-------+-------+----+---+-----+--------+--------+-----+--------+------------+\n",
            "only showing top 20 rows\n",
            "\n"
          ]
        }
      ],
      "source": [
        "df = spark.read.csv('BankCustomerData.csv', header=True, inferSchema=True)\n",
        "df.show()"
      ]
    },
    {
      "cell_type": "code",
      "execution_count": null,
      "id": "cc9f88bd-1ea4-4b19-9a26-d54cbabc4805",
      "metadata": {
        "id": "cc9f88bd-1ea4-4b19-9a26-d54cbabc4805",
        "outputId": "55a5706f-3d3c-49f9-cfea-c4a4dbc89153"
      },
      "outputs": [
        {
          "name": "stdout",
          "output_type": "stream",
          "text": [
            "root\n",
            " |-- ID: integer (nullable = true)\n",
            " |-- age: integer (nullable = true)\n",
            " |-- job: string (nullable = true)\n",
            " |-- marital: integer (nullable = true)\n",
            " |-- education: string (nullable = true)\n",
            " |-- default: integer (nullable = true)\n",
            " |-- balance: integer (nullable = true)\n",
            " |-- housing: integer (nullable = true)\n",
            " |-- loan: integer (nullable = true)\n",
            " |-- day: integer (nullable = true)\n",
            " |-- month: string (nullable = true)\n",
            " |-- duration: integer (nullable = true)\n",
            " |-- campaign: integer (nullable = true)\n",
            " |-- pdays: integer (nullable = true)\n",
            " |-- previous: integer (nullable = true)\n",
            " |-- term_deposit: integer (nullable = true)\n",
            "\n"
          ]
        }
      ],
      "source": [
        "df.printSchema()"
      ]
    },
    {
      "cell_type": "markdown",
      "id": "312d7dc5-43b2-4d7f-99d9-7c3ba74f004e",
      "metadata": {
        "id": "312d7dc5-43b2-4d7f-99d9-7c3ba74f004e"
      },
      "source": [
        "# 1. Mô tả dữ liệu"
      ]
    },
    {
      "cell_type": "markdown",
      "id": "85b5db81-4e72-4530-9a43-63dee9e68432",
      "metadata": {
        "id": "85b5db81-4e72-4530-9a43-63dee9e68432"
      },
      "source": [
        "## Giá trị cao nhất, thấp nhất của các thuộc tính numberic"
      ]
    },
    {
      "cell_type": "code",
      "execution_count": null,
      "id": "dcd0d5b7-7501-4999-af15-503acf08dc8d",
      "metadata": {
        "id": "dcd0d5b7-7501-4999-af15-503acf08dc8d",
        "outputId": "901a3246-2d66-4403-e266-96f4c95cba84"
      },
      "outputs": [
        {
          "name": "stdout",
          "output_type": "stream",
          "text": [
            "+------------+------+\n",
            "|   statistic| value|\n",
            "+------------+------+\n",
            "|     max_age|    95|\n",
            "|     min_age|    18|\n",
            "| max_balance|102127|\n",
            "| min_balance| -8019|\n",
            "|max_duration|  4918|\n",
            "|min_duration|     0|\n",
            "|max_campaign|    63|\n",
            "|min_campaign|     1|\n",
            "|   max_pdays|   536|\n",
            "|   min_pdays|    -1|\n",
            "|max_previous|   275|\n",
            "|min_previous|     0|\n",
            "+------------+------+\n",
            "\n"
          ]
        }
      ],
      "source": [
        "max_min_values = df.select(\n",
        "    spark_max(\"age\").alias(\"max_age\"), spark_min(\"age\").alias(\"min_age\"),\n",
        "    spark_max(\"balance\").alias(\"max_balance\"), spark_min(\"balance\").alias(\"min_balance\"),\n",
        "    spark_max(\"duration\").alias(\"max_duration\"), spark_min(\"duration\").alias(\"min_duration\"),\n",
        "    spark_max(\"campaign\").alias(\"max_campaign\"), spark_min(\"campaign\").alias(\"min_campaign\"),\n",
        "    spark_max(\"pdays\").alias(\"max_pdays\"), spark_min(\"pdays\").alias(\"min_pdays\"),\n",
        "    spark_max(\"previous\").alias(\"max_previous\"), spark_min(\"previous\").alias(\"min_previous\")\n",
        ").first()\n",
        "\n",
        "rows = [\n",
        "    Row(statistic=\"max_age\", value=max_min_values['max_age']),\n",
        "    Row(statistic=\"min_age\", value=max_min_values['min_age']),\n",
        "    Row(statistic=\"max_balance\", value=max_min_values['max_balance']),\n",
        "    Row(statistic=\"min_balance\", value=max_min_values['min_balance']),\n",
        "    Row(statistic=\"max_duration\", value=max_min_values['max_duration']),\n",
        "    Row(statistic=\"min_duration\", value=max_min_values['min_duration']),\n",
        "    Row(statistic=\"max_campaign\", value=max_min_values['max_campaign']),\n",
        "    Row(statistic=\"min_campaign\", value=max_min_values['min_campaign']),\n",
        "    Row(statistic=\"max_pdays\", value=max_min_values['max_pdays']),\n",
        "    Row(statistic=\"min_pdays\", value=max_min_values['min_pdays']),\n",
        "    Row(statistic=\"max_previous\", value=max_min_values['max_previous']),\n",
        "    Row(statistic=\"min_previous\", value=max_min_values['min_previous'])\n",
        "]\n",
        "\n",
        "stats_df = spark.createDataFrame(rows)\n",
        "stats_df.show()"
      ]
    },
    {
      "cell_type": "markdown",
      "id": "f3915cf0-431f-4136-acf0-d7d9a9aba719",
      "metadata": {
        "id": "f3915cf0-431f-4136-acf0-d7d9a9aba719"
      },
      "source": [
        "## Giá trị phổ biến nhất, hiếm nhất của các thuộc tính"
      ]
    },
    {
      "cell_type": "code",
      "execution_count": null,
      "id": "10e4daba-e488-4c68-9395-792127eab8e3",
      "metadata": {
        "id": "10e4daba-e488-4c68-9395-792127eab8e3",
        "outputId": "00f3210e-26cf-458c-9074-c1246a382ca8"
      },
      "outputs": [
        {
          "name": "stdout",
          "output_type": "stream",
          "text": [
            "+-------------------------+-----------+-----+\n",
            "|statistic                |value      |count|\n",
            "+-------------------------+-----------+-----+\n",
            "|most_common_age          |32         |1999 |\n",
            "|least_common_age         |94         |1    |\n",
            "|most_common_job          |blue-collar|9536 |\n",
            "|least_common_job         |unknown    |264  |\n",
            "|most_common_marital      |2          |25868|\n",
            "|least_common_marital     |0          |4965 |\n",
            "|most_common_education    |secondary  |22066|\n",
            "|least_common_education   |unknown    |1690 |\n",
            "|most_common_default      |0          |41828|\n",
            "|least_common_default     |1          |811  |\n",
            "|most_common_housing      |1          |24590|\n",
            "|least_common_housing     |0          |18049|\n",
            "|most_common_loan         |0          |35554|\n",
            "|least_common_loan        |1          |7085 |\n",
            "|most_common_day          |20         |2703 |\n",
            "|least_common_day         |1          |235  |\n",
            "|most_common_month        |may        |13532|\n",
            "|least_common_month       |dec        |214  |\n",
            "|most_common_term_deposit |0          |38678|\n",
            "|least_common_term_deposit|1          |3961 |\n",
            "+-------------------------+-----------+-----+\n",
            "\n"
          ]
        }
      ],
      "source": [
        "def get_most_and_least_common(df, col_name):\n",
        "    counts = df.groupBy(col_name).count().orderBy(\"count\", ascending=False)\n",
        "    most_common = counts.first()\n",
        "    least_common = counts.orderBy(\"count\", ascending=True).first()\n",
        "    return most_common, least_common\n",
        "\n",
        "\n",
        "attributes = ['age','job', 'marital', 'education', 'default', 'housing', 'loan', 'day','month', 'term_deposit']\n",
        "rows = []\n",
        "\n",
        "for attr in attributes:\n",
        "    most_common, least_common = get_most_and_least_common(df, attr)\n",
        "\n",
        "    rows.append(Row(statistic=f\"most_common_{attr}\", value=most_common[attr], count=most_common['count']))\n",
        "    rows.append(Row(statistic=f\"least_common_{attr}\", value=least_common[attr], count=least_common['count']))\n",
        "\n",
        "stats_df = spark.createDataFrame(rows)\n",
        "stats_df.show(truncate=False)"
      ]
    },
    {
      "cell_type": "markdown",
      "id": "82366937-af24-450c-bfc8-083aedb6cb1c",
      "metadata": {
        "id": "82366937-af24-450c-bfc8-083aedb6cb1c"
      },
      "source": [
        "## Giá trị trung bình, trung vị của các thuộc tính numberic"
      ]
    },
    {
      "cell_type": "code",
      "execution_count": null,
      "id": "a076f098-a7f5-4add-916f-fdfb2db02ecb",
      "metadata": {
        "id": "a076f098-a7f5-4add-916f-fdfb2db02ecb",
        "outputId": "ddffa244-99c0-4344-9570-3b2b05b36cc6"
      },
      "outputs": [
        {
          "name": "stdout",
          "output_type": "stream",
          "text": [
            "+---------------+-------------------+\n",
            "|statistic      |value              |\n",
            "+---------------+-------------------+\n",
            "|avg_age        |40.78880836792608  |\n",
            "|median_age     |39.0               |\n",
            "|avg_balance    |1331.863950843125  |\n",
            "|median_balance |417.0              |\n",
            "|avg_duration   |255.95750369380144 |\n",
            "|median_duration|175.0              |\n",
            "|avg_campaign   |2.8164122047890428 |\n",
            "|median_campaign|2.0                |\n",
            "|avg_pdays      |34.16914092732006  |\n",
            "|median_pdays   |-1.0               |\n",
            "|avg_previous   |0.46544243532915874|\n",
            "|median_previous|0.0                |\n",
            "+---------------+-------------------+\n",
            "\n"
          ]
        }
      ],
      "source": [
        "numeric_columns = ['age', 'balance', 'duration', 'campaign', 'pdays', 'previous']\n",
        "\n",
        "avg_values = df.select(\n",
        "    [avg(col).alias(f\"avg_{col}\") for col in numeric_columns]\n",
        ").collect()[0]\n",
        "\n",
        "median_values = df.approxQuantile(numeric_columns, [0.5], 0.01)\n",
        "median_values_dict = {f\"median_{col}\": median for col, median in zip(numeric_columns, median_values)}\n",
        "\n",
        "\n",
        "rows = []\n",
        "for col in numeric_columns:\n",
        "    rows.append(Row(statistic=f\"avg_{col}\", value=avg_values[f\"avg_{col}\"]))\n",
        "    rows.append(Row(statistic=f\"median_{col}\", value=median_values_dict[f\"median_{col}\"][0]))\n",
        "\n",
        "\n",
        "stats_df = spark.createDataFrame(rows)\n",
        "stats_df.show(truncate=False)"
      ]
    },
    {
      "cell_type": "markdown",
      "id": "d49081c6-2110-4628-9abc-2948c86c064c",
      "metadata": {
        "id": "d49081c6-2110-4628-9abc-2948c86c064c"
      },
      "source": [
        "# 2. Tiền xử lý dữ liệu"
      ]
    },
    {
      "cell_type": "markdown",
      "id": "1b235141-a5bd-4932-8e0c-a9c530bf0a3c",
      "metadata": {
        "id": "1b235141-a5bd-4932-8e0c-a9c530bf0a3c"
      },
      "source": [
        "### Loại bỏ thuộc tính không cần thiêt"
      ]
    },
    {
      "cell_type": "code",
      "execution_count": null,
      "id": "c77a4cc6-fbc2-459d-8122-a9d2d71fddd9",
      "metadata": {
        "id": "c77a4cc6-fbc2-459d-8122-a9d2d71fddd9",
        "outputId": "2259122f-bcbd-4eb7-8e76-9a4db16cc475"
      },
      "outputs": [
        {
          "name": "stdout",
          "output_type": "stream",
          "text": [
            "15\n"
          ]
        }
      ],
      "source": [
        "df = df.drop('ID')\n",
        "print(len(df.columns))"
      ]
    },
    {
      "cell_type": "markdown",
      "id": "c9208f2a-4eb0-45f5-bfa7-a1190e8b1754",
      "metadata": {
        "id": "c9208f2a-4eb0-45f5-bfa7-a1190e8b1754"
      },
      "source": [
        "### Nhận diện dữ liệu bị nhiễu"
      ]
    },
    {
      "cell_type": "code",
      "execution_count": null,
      "id": "3fed4bab-c836-486f-a280-b9b54d302fa6",
      "metadata": {
        "scrolled": true,
        "id": "3fed4bab-c836-486f-a280-b9b54d302fa6",
        "outputId": "61881ce3-27ec-4c9b-d912-5f0cf94462d8"
      },
      "outputs": [
        {
          "data": {
            "image/png": "[encoded data removed]",
            "text/plain": [
              "<Figure size 2000x3000 with 6 Axes>"
            ]
          },
          "metadata": {},
          "output_type": "display_data"
        }
      ],
      "source": [
        "numberic_col = ['age',\n",
        "                'balance',\n",
        "                'duration',\n",
        "                'campaign',\n",
        "                'pdays',\n",
        "                'previous',\n",
        "]\n",
        "plt.figure(figsize=(20,30))\n",
        "\n",
        "for i, col in enumerate(numberic_col):\n",
        "    plt.subplot(4,3,i+1)\n",
        "    data = df.select(col).toPandas()\n",
        "    plt.boxplot(data, whis=1.5)\n",
        "    plt.title(col)\n"
      ]
    },
    {
      "cell_type": "code",
      "execution_count": null,
      "id": "f3889c28-b31a-42df-823d-552b07253673",
      "metadata": {
        "id": "f3889c28-b31a-42df-823d-552b07253673",
        "outputId": "8eba627f-7a53-42d8-c2d1-3f57c0fc4565"
      },
      "outputs": [
        {
          "name": "stdout",
          "output_type": "stream",
          "text": [
            "Cột age có 367 giá trị ngoại lệ, chiếm 0.86%\n",
            "Cột balance có 5620 giá trị ngoại lệ, chiếm 13.18%\n",
            "Cột duration có 4077 giá trị ngoại lệ, chiếm 9.56%\n",
            "Cột campaign có 3021 giá trị ngoại lệ, chiếm 7.09%\n",
            "Cột pdays có 6557 giá trị ngoại lệ, chiếm 15.38%\n",
            "Cột previous có 6557 giá trị ngoại lệ, chiếm 15.38%\n"
          ]
        }
      ],
      "source": [
        "# Xác định số lượng và phân trăm các giá trị ngoại lệ\n",
        "# Box plot\n",
        "def outlier_statistic(df, numberic_col):\n",
        "    for col in numberic_col:\n",
        "        quartiles = df.approxQuantile(col, [0.25, 0.75], 0.05)\n",
        "        q1 = quartiles[0]\n",
        "        q3 = quartiles[1]\n",
        "        iqr = q3 - q1\n",
        "\n",
        "        lower_bound = q1 - 1.5 * iqr\n",
        "        upper_bound = q3 + 1.5 * iqr\n",
        "\n",
        "        count_outliers = df.filter((df[col] < lower_bound) | (df[col] > upper_bound)).count()\n",
        "        percent_outliers = count_outliers / df.count() * 100\n",
        "\n",
        "        print(f\"Cột {col} có {count_outliers} giá trị ngoại lệ, chiếm {percent_outliers:.2f}%\")\n",
        "\n",
        "\n",
        "outlier_statistic(df, numberic_col)"
      ]
    },
    {
      "cell_type": "code",
      "execution_count": null,
      "id": "829bc5a2-1bca-469a-b389-462d4c3012b0",
      "metadata": {
        "id": "829bc5a2-1bca-469a-b389-462d4c3012b0"
      },
      "outputs": [],
      "source": [
        "def QuantileOutlierClipper(df, col):\n",
        "    quartiles = df.approxQuantile(col, [0.25, 0.75], 0.05)\n",
        "    q1 = quartiles[0]\n",
        "    q3 = quartiles[1]\n",
        "    iqr = q3 - q1\n",
        "\n",
        "    lower_bound = q1 - 1.5 * iqr\n",
        "    upper_bound = q3 + 1.5 * iqr\n",
        "\n",
        "    df = df.withColumn(col, df[col].cast(DoubleType()))\n",
        "    clip_udf = udf(lambda x: min(upper_bound, max(lower_bound, x)), DoubleType())\n",
        "\n",
        "    return df.withColumn(col, clip_udf(df[col]))\n"
      ]
    },
    {
      "cell_type": "code",
      "execution_count": null,
      "id": "7b30c7e7-e90b-4388-a71f-dfc879c810d3",
      "metadata": {
        "id": "7b30c7e7-e90b-4388-a71f-dfc879c810d3",
        "outputId": "13ffe087-5b5f-4d81-8846-962dab30f50d"
      },
      "outputs": [
        {
          "name": "stdout",
          "output_type": "stream",
          "text": [
            "Cột age có 0 giá trị ngoại lệ, chiếm 0.00%\n",
            "Cột balance có 0 giá trị ngoại lệ, chiếm 0.00%\n",
            "Cột duration có 0 giá trị ngoại lệ, chiếm 0.00%\n",
            "Cột campaign có 0 giá trị ngoại lệ, chiếm 0.00%\n",
            "Cột pdays có 0 giá trị ngoại lệ, chiếm 0.00%\n",
            "Cột previous có 0 giá trị ngoại lệ, chiếm 0.00%\n"
          ]
        }
      ],
      "source": [
        "for col in numberic_col:\n",
        "    df = QuantileOutlierClipper(df, col)\n",
        "\n",
        "outlier_statistic(df, numberic_col)"
      ]
    },
    {
      "cell_type": "markdown",
      "id": "b1cf1712-cd9c-4ceb-ba3e-c7d516e788c6",
      "metadata": {
        "id": "b1cf1712-cd9c-4ceb-ba3e-c7d516e788c6"
      },
      "source": [
        "### Nhận diện dữ liệu bị thiếu"
      ]
    },
    {
      "cell_type": "code",
      "execution_count": null,
      "id": "89d6857a-87bc-4775-bda5-5db3095e33cb",
      "metadata": {
        "id": "89d6857a-87bc-4775-bda5-5db3095e33cb",
        "outputId": "a8693180-c710-4d9f-dcd9-5b9ad8ec0c45"
      },
      "outputs": [
        {
          "name": "stdout",
          "output_type": "stream",
          "text": [
            "Cột age có 0 giá trị bị thiếu, chiếm 0.00%\n",
            "Cột job có 0 giá trị bị thiếu, chiếm 0.00%\n",
            "Cột marital có 0 giá trị bị thiếu, chiếm 0.00%\n",
            "Cột education có 0 giá trị bị thiếu, chiếm 0.00%\n",
            "Cột default có 0 giá trị bị thiếu, chiếm 0.00%\n",
            "Cột balance có 0 giá trị bị thiếu, chiếm 0.00%\n",
            "Cột housing có 0 giá trị bị thiếu, chiếm 0.00%\n",
            "Cột loan có 0 giá trị bị thiếu, chiếm 0.00%\n",
            "Cột day có 0 giá trị bị thiếu, chiếm 0.00%\n",
            "Cột month có 0 giá trị bị thiếu, chiếm 0.00%\n",
            "Cột duration có 0 giá trị bị thiếu, chiếm 0.00%\n",
            "Cột campaign có 0 giá trị bị thiếu, chiếm 0.00%\n",
            "Cột pdays có 0 giá trị bị thiếu, chiếm 0.00%\n",
            "Cột previous có 0 giá trị bị thiếu, chiếm 0.00%\n",
            "Cột term_deposit có 0 giá trị bị thiếu, chiếm 0.00%\n"
          ]
        }
      ],
      "source": [
        "def count_missing_values(df):\n",
        "    missing_counts = []\n",
        "    total_rows = df.count()\n",
        "    for col in df.columns:\n",
        "        missing_count = df.where(df[col].isNull()).count()\n",
        "        missing_counts.append((col, missing_count, missing_count/total_rows * 100))\n",
        "    return missing_counts\n",
        "\n",
        "missing_counts = count_missing_values(df)\n",
        "for col, missing_count, missing_percent in missing_counts:\n",
        "    print(f\"Cột {col} có {missing_count} giá trị bị thiếu, chiếm {missing_percent:.2f}%\")"
      ]
    },
    {
      "cell_type": "markdown",
      "id": "4bd76f53-04a2-418c-ad70-33b21a2b377b",
      "metadata": {
        "id": "4bd76f53-04a2-418c-ad70-33b21a2b377b"
      },
      "source": [
        "### Xử lý ý nghĩa của dữ liệu"
      ]
    },
    {
      "cell_type": "code",
      "execution_count": null,
      "id": "d580be16-5b07-4adc-9c01-85339c2e105e",
      "metadata": {
        "id": "d580be16-5b07-4adc-9c01-85339c2e105e"
      },
      "outputs": [],
      "source": [
        "from pyspark.ml.feature import StringIndexer\n",
        "\n",
        "## Dữ liệu dạng danh mục - job, education\n",
        "def label_encoder(df, col_name):\n",
        "    indexer = StringIndexer(inputCol=col_name, outputCol=col_name+\"_indexed\")\n",
        "    indexed_df = indexer.fit(df).transform(df)\n",
        "\n",
        "    return indexed_df\n",
        "\n",
        "df = label_encoder(df,'job')\n",
        "df = label_encoder(df,'education')\n",
        "df = df.drop('job')\n",
        "df = df.drop('education')"
      ]
    },
    {
      "cell_type": "code",
      "execution_count": null,
      "id": "16c7f062-32fc-4cc3-b84b-bdb0c3a93f2c",
      "metadata": {
        "id": "16c7f062-32fc-4cc3-b84b-bdb0c3a93f2c",
        "outputId": "857ea40a-770a-4eb1-9bbb-369c3f0977e4"
      },
      "outputs": [
        {
          "name": "stdout",
          "output_type": "stream",
          "text": [
            "+-----+-----+\n",
            "|month|count|\n",
            "+-----+-----+\n",
            "|  jun| 5128|\n",
            "|  aug| 5987|\n",
            "|  may|13532|\n",
            "|  feb| 2296|\n",
            "|  sep|  282|\n",
            "|  mar|  258|\n",
            "|  oct|  518|\n",
            "|  jul| 6587|\n",
            "|  nov| 3895|\n",
            "|  apr| 2718|\n",
            "|  dec|  214|\n",
            "|  jan| 1224|\n",
            "+-----+-----+\n",
            "\n"
          ]
        }
      ],
      "source": [
        "df.groupBy('month').count().show()"
      ]
    },
    {
      "cell_type": "code",
      "execution_count": null,
      "id": "449b2d5a-4d3f-4cb9-93e8-999a24eca7aa",
      "metadata": {
        "id": "449b2d5a-4d3f-4cb9-93e8-999a24eca7aa"
      },
      "outputs": [],
      "source": [
        "## Dữ liệu dạng danh mục có thứ bậc - month\n",
        "months_mapping = {\n",
        "    'jan': 1,\n",
        "    'feb': 2,\n",
        "    'mar': 3,\n",
        "    'apr': 4,\n",
        "    'may': 5,\n",
        "    'jun': 6,\n",
        "    'jul': 7,\n",
        "    'aug': 8,\n",
        "    'sep': 9,\n",
        "    'oct': 10,\n",
        "    'nov': 11,\n",
        "    'dec': 12\n",
        "}\n",
        "\n",
        "for month_str, month_num in months_mapping.items():\n",
        "    df = df.withColumn(\"month\", when(df[\"month\"] == month_str, month_num).otherwise(df[\"month\"]))\n",
        "\n",
        "df = df.withColumn('month', df['month'].cast(IntegerType()))"
      ]
    },
    {
      "cell_type": "markdown",
      "id": "259e93d6-3d75-45b3-b5eb-81caf019ef36",
      "metadata": {
        "id": "259e93d6-3d75-45b3-b5eb-81caf019ef36"
      },
      "source": [
        "### Chuẩn hóa dữ liệu"
      ]
    },
    {
      "cell_type": "code",
      "execution_count": null,
      "id": "cb5ec7fc-1d9e-44d6-bd33-b0cad1b569af",
      "metadata": {
        "id": "cb5ec7fc-1d9e-44d6-bd33-b0cad1b569af",
        "outputId": "680c25eb-6774-4eba-89ff-62e54d03df5a"
      },
      "outputs": [
        {
          "name": "stdout",
          "output_type": "stream",
          "text": [
            "+-------+------------------+------------------+\n",
            "|summary|           balance|          duration|\n",
            "+-------+------------------+------------------+\n",
            "|  count|             42639|             42639|\n",
            "|   mean| 834.8974178568916|225.53082858416005|\n",
            "| stddev|1012.4357491438211|161.42443594668387|\n",
            "|    min|           -1560.0|               0.0|\n",
            "|    max|            2800.0|             559.0|\n",
            "+-------+------------------+------------------+\n",
            "\n"
          ]
        }
      ],
      "source": [
        "selected_cols = ['balance', 'duration']\n",
        "\n",
        "summary_df = df.select(selected_cols).describe()\n",
        "summary_df.show()"
      ]
    },
    {
      "cell_type": "code",
      "execution_count": null,
      "id": "649fe00b-3906-4d7e-a087-3ac960ec3a04",
      "metadata": {
        "id": "649fe00b-3906-4d7e-a087-3ac960ec3a04"
      },
      "outputs": [],
      "source": [
        "def normalize_dataframe(df, columns):\n",
        "    min_max_values = {}\n",
        "    for column in columns:\n",
        "        min_value = df.select(spark_min(col(column))).collect()[0][0]\n",
        "        max_value = df.select(spark_max(col(column))).collect()[0][0]\n",
        "        min_max_values[column] = (min_value, max_value)\n",
        "\n",
        "    normalized_data = df\n",
        "    for column, (min_value, max_value) in min_max_values.items():\n",
        "        new_column_name = f\"{column}_normalized\"\n",
        "        normalized_data = normalized_data.withColumn(\n",
        "            new_column_name, (col(column) - min_value) / (max_value - min_value)\n",
        "        ).drop(column)\n",
        "\n",
        "    return normalized_data\n",
        "\n",
        "columns = ['balance', 'duration']\n",
        "normalize_df = normalize_dataframe(df, columns)"
      ]
    },
    {
      "cell_type": "code",
      "execution_count": null,
      "id": "b9292f3c-ac3b-4ace-aa42-297622dc4575",
      "metadata": {
        "id": "b9292f3c-ac3b-4ace-aa42-297622dc4575"
      },
      "outputs": [],
      "source": [
        "normalize_df = normalize_df.drop('balance')\n",
        "normalize_df = normalize_df.drop('duration')"
      ]
    },
    {
      "cell_type": "code",
      "execution_count": null,
      "id": "e95ee731-cc79-40e7-97ff-929387156bd0",
      "metadata": {
        "id": "e95ee731-cc79-40e7-97ff-929387156bd0",
        "outputId": "d5e7f123-5769-4d45-a000-b13d0d6366ef"
      },
      "outputs": [
        {
          "name": "stdout",
          "output_type": "stream",
          "text": [
            "+-------+------------------+-------------------+\n",
            "|summary|balance_normalized|duration_normalized|\n",
            "+-------+------------------+-------------------+\n",
            "|  count|             42639|              42639|\n",
            "|   mean|0.5492883985910085|0.40345407617917645|\n",
            "| stddev|0.2322100342072999|0.28877358845560713|\n",
            "|    min|               0.0|                0.0|\n",
            "|    max|               1.0|                1.0|\n",
            "+-------+------------------+-------------------+\n",
            "\n"
          ]
        }
      ],
      "source": [
        "selected_cols = ['balance_normalized', 'duration_normalized']\n",
        "\n",
        "summary_df = normalize_df.select(selected_cols).describe()\n",
        "summary_df.show()"
      ]
    },
    {
      "cell_type": "code",
      "execution_count": null,
      "id": "311a2186-f88e-4811-bb0e-a437267e5d74",
      "metadata": {
        "id": "311a2186-f88e-4811-bb0e-a437267e5d74",
        "outputId": "65f670c7-9edd-4bc5-9f40-240c96ebc3de"
      },
      "outputs": [
        {
          "name": "stdout",
          "output_type": "stream",
          "text": [
            "+----+-------+-------+-------+----+---+-----+--------+-----+--------+-----------+-----------------+-------------------+-------------------+------------+\n",
            "| age|marital|default|housing|loan|day|month|campaign|pdays|previous|job_indexed|education_indexed| balance_normalized|duration_normalized|term_deposit|\n",
            "+----+-------+-------+-------+----+---+-----+--------+-----+--------+-----------+-----------------+-------------------+-------------------+------------+\n",
            "|58.0|      2|      0|      1|   0|  5|    5|     1.0| -1.0|     0.0|        1.0|              1.0| 0.8493119266055046| 0.4669051878354204|           0|\n",
            "|44.0|      1|      0|      1|   0|  5|    5|     1.0| -1.0|     0.0|        2.0|              0.0|0.36444954128440366| 0.2701252236135957|           0|\n",
            "|33.0|      2|      0|      1|   1|  5|    5|     1.0| -1.0|     0.0|        7.0|              0.0|0.35825688073394496|0.13595706618962433|           0|\n",
            "|47.0|      2|      0|      1|   0|  5|    5|     1.0| -1.0|     0.0|        0.0|              3.0| 0.7032110091743119|0.16457960644007155|           0|\n",
            "|33.0|      1|      0|      0|   0|  5|    5|     1.0| -1.0|     0.0|       11.0|              3.0|0.35802752293577983| 0.3542039355992844|           0|\n",
            "|35.0|      2|      0|      1|   0|  5|    5|     1.0| -1.0|     0.0|        1.0|              1.0|0.41077981651376144|0.24865831842576028|           0|\n",
            "|28.0|      1|      0|      1|   1|  5|    5|     1.0| -1.0|     0.0|        1.0|              1.0|0.46032110091743117| 0.3881932021466905|           0|\n",
            "|42.0|      0|      1|      1|   0|  5|    5|     1.0| -1.0|     0.0|        7.0|              1.0|0.35825688073394496| 0.6797853309481217|           0|\n",
            "|58.0|      2|      0|      1|   0|  5|    5|     1.0| -1.0|     0.0|        5.0|              2.0|0.38555045871559634|0.08944543828264759|           0|\n",
            "|43.0|      1|      0|      1|   0|  5|    5|     1.0| -1.0|     0.0|        2.0|              0.0| 0.4938073394495413|0.09838998211091235|           0|\n",
            "|41.0|      0|      0|      1|   0|  5|    5|     1.0| -1.0|     0.0|        3.0|              0.0| 0.4197247706422018|0.39713774597495527|           0|\n",
            "|29.0|      1|      0|      1|   0|  5|    5|     1.0| -1.0|     0.0|        3.0|              0.0|0.44724770642201833|0.24508050089445438|           0|\n",
            "|53.0|      2|      0|      1|   0|  5|    5|     1.0| -1.0|     0.0|        2.0|              0.0| 0.3591743119266055|  0.924865831842576|           0|\n",
            "|58.0|      2|      0|      1|   0|  5|    5|     1.0| -1.0|     0.0|        2.0|              3.0| 0.3740825688073395|0.12701252236135957|           0|\n",
            "|57.0|      2|      0|      1|   0|  5|    5|     1.0| -1.0|     0.0|        4.0|              0.0|  0.394954128440367| 0.3112701252236136|           0|\n",
            "|51.0|      2|      0|      1|   0|  5|    5|     1.0| -1.0|     0.0|        5.0|              2.0| 0.4103211009174312|  0.631484794275492|           0|\n",
            "|45.0|      1|      0|      1|   0|  5|    5|     1.0| -1.0|     0.0|        3.0|              3.0|0.36077981651376145|0.17531305903398928|           0|\n",
            "|57.0|      2|      0|      1|   0|  5|    5|     1.0| -1.0|     0.0|        0.0|              2.0| 0.3697247706422018|0.06797853309481217|           0|\n",
            "|60.0|      2|      0|      1|   0|  5|    5|     1.0| -1.0|     0.0|        5.0|              2.0|0.37155963302752293|0.39177101967799643|           0|\n",
            "|33.0|      2|      0|      1|   0|  5|    5|     1.0| -1.0|     0.0|        4.0|              0.0| 0.3577981651376147|0.09660107334525939|           0|\n",
            "+----+-------+-------+-------+----+---+-----+--------+-----+--------+-----------+-----------------+-------------------+-------------------+------------+\n",
            "only showing top 20 rows\n",
            "\n"
          ]
        }
      ],
      "source": [
        "# Chuyển thuộc tính term_deposit về cuối\n",
        "selected_cols = [col for col in normalize_df.columns if col != 'term_deposit']\n",
        "term_deposit_col = col('term_deposit')\n",
        "\n",
        "new_df = normalize_df.select(selected_cols + [term_deposit_col])\n",
        "new_df.show()"
      ]
    },
    {
      "cell_type": "code",
      "execution_count": null,
      "id": "a1d0596b-5113-47b5-a66f-60bc76e1d014",
      "metadata": {
        "id": "a1d0596b-5113-47b5-a66f-60bc76e1d014"
      },
      "outputs": [],
      "source": [
        "new_df.toPandas().to_csv('BankCustomerData_Processed.csv', index=0)"
      ]
    },
    {
      "cell_type": "markdown",
      "id": "77ade3dd-b791-4a17-a8ce-8bed3b0c5d95",
      "metadata": {
        "id": "77ade3dd-b791-4a17-a8ce-8bed3b0c5d95"
      },
      "source": [
        "### Tách dữ liệu Train & Test"
      ]
    },
    {
      "cell_type": "code",
      "execution_count": null,
      "id": "1229bccb-6fa6-4c04-9c46-32d4bba12f69",
      "metadata": {
        "scrolled": true,
        "id": "1229bccb-6fa6-4c04-9c46-32d4bba12f69",
        "outputId": "5c8eb410-f531-4b47-ba90-b1308df46749"
      },
      "outputs": [
        {
          "name": "stdout",
          "output_type": "stream",
          "text": [
            "+---+-------+-------+-------+----+---+-----+--------+-----+--------+-----------+-----------------+------------------+-------------------+------------+\n",
            "|age|marital|default|housing|loan|day|month|campaign|pdays|previous|job_indexed|education_indexed|balance_normalized|duration_normalized|term_deposit|\n",
            "+---+-------+-------+-------+----+---+-----+--------+-----+--------+-----------+-----------------+------------------+-------------------+------------+\n",
            "| 58|      2|      0|      1|   0|  5|    5|       1|   -1|       0|          1|                1|       0.849311927|        0.466905188|           0|\n",
            "| 44|      1|      0|      1|   0|  5|    5|       1|   -1|       0|          2|                0|       0.364449541|        0.270125224|           0|\n",
            "| 33|      2|      0|      1|   1|  5|    5|       1|   -1|       0|          7|                0|       0.358256881|        0.135957066|           0|\n",
            "| 47|      2|      0|      1|   0|  5|    5|       1|   -1|       0|          0|                3|       0.703211009|        0.164579606|           0|\n",
            "| 33|      1|      0|      0|   0|  5|    5|       1|   -1|       0|         11|                3|       0.358027523|        0.354203936|           0|\n",
            "| 35|      2|      0|      1|   0|  5|    5|       1|   -1|       0|          1|                1|       0.410779817|        0.248658318|           0|\n",
            "| 28|      1|      0|      1|   1|  5|    5|       1|   -1|       0|          1|                1|       0.460321101|        0.388193202|           0|\n",
            "| 42|      0|      1|      1|   0|  5|    5|       1|   -1|       0|          7|                1|       0.358256881|        0.679785331|           0|\n",
            "| 58|      2|      0|      1|   0|  5|    5|       1|   -1|       0|          5|                2|       0.385550459|        0.089445438|           0|\n",
            "| 43|      1|      0|      1|   0|  5|    5|       1|   -1|       0|          2|                0|       0.493807339|        0.098389982|           0|\n",
            "| 41|      0|      0|      1|   0|  5|    5|       1|   -1|       0|          3|                0|       0.419724771|        0.397137746|           0|\n",
            "| 29|      1|      0|      1|   0|  5|    5|       1|   -1|       0|          3|                0|       0.447247706|        0.245080501|           0|\n",
            "| 53|      2|      0|      1|   0|  5|    5|       1|   -1|       0|          2|                0|       0.359174312|        0.924865832|           0|\n",
            "| 58|      2|      0|      1|   0|  5|    5|       1|   -1|       0|          2|                3|       0.374082569|        0.127012522|           0|\n",
            "| 57|      2|      0|      1|   0|  5|    5|       1|   -1|       0|          4|                0|       0.394954128|        0.311270125|           0|\n",
            "| 51|      2|      0|      1|   0|  5|    5|       1|   -1|       0|          5|                2|       0.410321101|        0.631484794|           0|\n",
            "| 45|      1|      0|      1|   0|  5|    5|       1|   -1|       0|          3|                3|       0.360779817|        0.175313059|           0|\n",
            "| 57|      2|      0|      1|   0|  5|    5|       1|   -1|       0|          0|                2|       0.369724771|        0.067978533|           0|\n",
            "| 60|      2|      0|      1|   0|  5|    5|       1|   -1|       0|          5|                2|       0.371559633|         0.39177102|           0|\n",
            "| 33|      2|      0|      1|   0|  5|    5|       1|   -1|       0|          4|                0|       0.357798165|        0.096601073|           0|\n",
            "+---+-------+-------+-------+----+---+-----+--------+-----+--------+-----------+-----------------+------------------+-------------------+------------+\n",
            "only showing top 20 rows\n",
            "\n"
          ]
        }
      ],
      "source": [
        "df = spark.read.csv('BankCustomerData_Processed.csv', header=True, inferSchema=True)\n",
        "df.show()"
      ]
    },
    {
      "cell_type": "code",
      "execution_count": null,
      "id": "9a3dcdf7-1841-404d-a971-b7fa67bb9e5c",
      "metadata": {
        "id": "9a3dcdf7-1841-404d-a971-b7fa67bb9e5c"
      },
      "outputs": [],
      "source": [
        "train_data, test_data = df.randomSplit([0.8, 0.2], seed=42)\n",
        "\n",
        "X_train = train_data.drop('term_deposit')\n",
        "y_train = train_data.select('term_deposit')\n",
        "\n",
        "X_test = test_data.drop('term_deposit')\n",
        "y_test = test_data.select('term_deposit')"
      ]
    },
    {
      "cell_type": "code",
      "execution_count": null,
      "id": "efce5718-91c0-42fe-bdce-60de30ff1d16",
      "metadata": {
        "id": "efce5718-91c0-42fe-bdce-60de30ff1d16",
        "outputId": "bb83058e-d4f5-4e91-a906-6d84fecb8724"
      },
      "outputs": [
        {
          "name": "stdout",
          "output_type": "stream",
          "text": [
            "X_train: 34111 rows, 14 columns\n",
            "y_train: 34111 rows, 1 columns\n",
            "X_test: 8528 rows, 14 columns\n",
            "y_test: 8528 rows, 1 columns\n"
          ]
        }
      ],
      "source": [
        "print(f\"X_train: {X_train.count()} rows, {len(X_train.columns)} columns\")\n",
        "print(f\"y_train: {y_train.count()} rows, {len(y_train.columns)} columns\")\n",
        "print(f\"X_test: {X_test.count()} rows, {len(X_test.columns)} columns\")\n",
        "print(f\"y_test: {y_test.count()} rows, {len(y_test.columns)} columns\")"
      ]
    }
  ],
  "metadata": {
    "kernelspec": {
      "display_name": "Python 3 (ipykernel)",
      "language": "python",
      "name": "python3"
    },
    "language_info": {
      "codemirror_mode": {
        "name": "ipython",
        "version": 3
      },
      "file_extension": ".py",
      "mimetype": "text/x-python",
      "name": "python",
      "nbconvert_exporter": "python",
      "pygments_lexer": "ipython3",
      "version": "3.11.7"
    },
    "colab": {
      "provenance": []
    }
  },
  "nbformat": 4,
  "nbformat_minor": 5
}