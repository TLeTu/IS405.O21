{
  "cells": [
    {
      "cell_type": "code",
      "execution_count": null,
      "metadata": {
        "id": "tzP9ezANeRFG"
      },
      "outputs": [],
      "source": [
        "from pyspark.sql import SparkSession\n",
        "from pyspark import SparkContext\n",
        "from pyspark.sql.functions import col, min as spark_min, max as spark_max, avg, mean, stddev, udf, when\n",
        "from pyspark.sql.functions import lit, when\n",
        "from pyspark.sql.types import DoubleType, IntegerType\n",
        "from pyspark.sql import Row\n",
        "import matplotlib.pyplot as plt\n",
        "import seaborn as sns\n",
        "import math\n",
        "import numpy as np"
      ]
    },
    {
      "cell_type": "code",
      "execution_count": null,
      "metadata": {
        "colab": {
          "base_uri": "https://localhost:8080/",
          "height": 222
        },
        "id": "dFtXffK_iq6O",
        "outputId": "f8c8484a-f0cc-47c8-d35d-2456ec1970e0"
      },
      "outputs": [
        {
          "output_type": "execute_result",
          "data": {
            "text/plain": [
              "<pyspark.sql.session.SparkSession at 0x79af21f5ebf0>"
            ],
            "text/html": [
              "\n",
              "            <div>\n",
              "                <p><b>SparkSession - in-memory</b></p>\n",
              "                \n",
              "        <div>\n",
              "            <p><b>SparkContext</b></p>\n",
              "\n",
              "            <p><a href=\"http://20af3f76e671:4040\">Spark UI</a></p>\n",
              "\n",
              "            <dl>\n",
              "              <dt>Version</dt>\n",
              "                <dd><code>v3.5.1</code></dd>\n",
              "              <dt>Master</dt>\n",
              "                <dd><code>local[*]</code></dd>\n",
              "              <dt>AppName</dt>\n",
              "                <dd><code>SVM</code></dd>\n",
              "            </dl>\n",
              "        </div>\n",
              "        \n",
              "            </div>\n",
              "        "
            ]
          },
          "metadata": {},
          "execution_count": 46
        }
      ],
      "source": [
        "spark = SparkSession.builder.appName(\"SVM\").getOrCreate()\n",
        "spark"
      ]
    },
    {
      "cell_type": "code",
      "execution_count": null,
      "metadata": {
        "colab": {
          "base_uri": "https://localhost:8080/"
        },
        "id": "Ri7LlqBIjKpo",
        "outputId": "3faec249-b334-4506-91ca-e2a0ac30e591"
      },
      "outputs": [
        {
          "output_type": "stream",
          "name": "stdout",
          "text": [
            "+---+-------+-------+-------+----+---+-----+--------+-----+--------+-----------+-----------------+------------------+-------------------+------------+\n",
            "|age|marital|default|housing|loan|day|month|campaign|pdays|previous|job_indexed|education_indexed|balance_normalized|duration_normalized|term_deposit|\n",
            "+---+-------+-------+-------+----+---+-----+--------+-----+--------+-----------+-----------------+------------------+-------------------+------------+\n",
            "| 58|      2|      0|      1|   0|  5|    5|       1|   -1|       0|          1|                1|       0.849311927|        0.466905188|           0|\n",
            "| 44|      1|      0|      1|   0|  5|    5|       1|   -1|       0|          2|                0|       0.364449541|        0.270125224|           0|\n",
            "| 33|      2|      0|      1|   1|  5|    5|       1|   -1|       0|          7|                0|       0.358256881|        0.135957066|           0|\n",
            "| 47|      2|      0|      1|   0|  5|    5|       1|   -1|       0|          0|                3|       0.703211009|        0.164579606|           0|\n",
            "| 33|      1|      0|      0|   0|  5|    5|       1|   -1|       0|         11|                3|       0.358027523|        0.354203936|           0|\n",
            "| 35|      2|      0|      1|   0|  5|    5|       1|   -1|       0|          1|                1|       0.410779817|        0.248658318|           0|\n",
            "| 28|      1|      0|      1|   1|  5|    5|       1|   -1|       0|          1|                1|       0.460321101|        0.388193202|           0|\n",
            "| 42|      0|      1|      1|   0|  5|    5|       1|   -1|       0|          7|                1|       0.358256881|        0.679785331|           0|\n",
            "| 58|      2|      0|      1|   0|  5|    5|       1|   -1|       0|          5|                2|       0.385550459|        0.089445438|           0|\n",
            "| 43|      1|      0|      1|   0|  5|    5|       1|   -1|       0|          2|                0|       0.493807339|        0.098389982|           0|\n",
            "| 41|      0|      0|      1|   0|  5|    5|       1|   -1|       0|          3|                0|       0.419724771|        0.397137746|           0|\n",
            "| 29|      1|      0|      1|   0|  5|    5|       1|   -1|       0|          3|                0|       0.447247706|        0.245080501|           0|\n",
            "| 53|      2|      0|      1|   0|  5|    5|       1|   -1|       0|          2|                0|       0.359174312|        0.924865832|           0|\n",
            "| 58|      2|      0|      1|   0|  5|    5|       1|   -1|       0|          2|                3|       0.374082569|        0.127012522|           0|\n",
            "| 57|      2|      0|      1|   0|  5|    5|       1|   -1|       0|          4|                0|       0.394954128|        0.311270125|           0|\n",
            "| 51|      2|      0|      1|   0|  5|    5|       1|   -1|       0|          5|                2|       0.410321101|        0.631484794|           0|\n",
            "| 45|      1|      0|      1|   0|  5|    5|       1|   -1|       0|          3|                3|       0.360779817|        0.175313059|           0|\n",
            "| 57|      2|      0|      1|   0|  5|    5|       1|   -1|       0|          0|                2|       0.369724771|        0.067978533|           0|\n",
            "| 60|      2|      0|      1|   0|  5|    5|       1|   -1|       0|          5|                2|       0.371559633|         0.39177102|           0|\n",
            "| 33|      2|      0|      1|   0|  5|    5|       1|   -1|       0|          4|                0|       0.357798165|        0.096601073|           0|\n",
            "+---+-------+-------+-------+----+---+-----+--------+-----+--------+-----------+-----------------+------------------+-------------------+------------+\n",
            "only showing top 20 rows\n",
            "\n"
          ]
        }
      ],
      "source": [
        "df = spark.read.csv('BankCustomerData_Processed.csv', header=True, inferSchema=True)\n",
        "df.show()"
      ]
    },
    {
      "cell_type": "code",
      "source": [
        "selected_cols = ['age', 'campaign']\n",
        "\n",
        "summary_df = df.select(selected_cols).describe()\n",
        "summary_df.show()"
      ],
      "metadata": {
        "colab": {
          "base_uri": "https://localhost:8080/"
        },
        "id": "iAipYesN5WQ8",
        "outputId": "b213dda8-45e6-4bf5-ee17-412a31f62783"
      },
      "execution_count": null,
      "outputs": [
        {
          "output_type": "stream",
          "name": "stdout",
          "text": [
            "+-------+-----------------+------------------+\n",
            "|summary|              age|          campaign|\n",
            "+-------+-----------------+------------------+\n",
            "|  count|            42639|             42639|\n",
            "|   mean|40.72670559816131|  2.42470508220174|\n",
            "| stddev|9.999083287799715|1.6137689108778355|\n",
            "|    min|               18|                 1|\n",
            "|    max|               68|                 6|\n",
            "+-------+-----------------+------------------+\n",
            "\n"
          ]
        }
      ]
    },
    {
      "cell_type": "code",
      "source": [
        "def normalize_dataframe(df, columns):\n",
        "    min_max_values = {}\n",
        "    for column in columns:\n",
        "        min_value = df.select(spark_min(col(column))).collect()[0][0]\n",
        "        max_value = df.select(spark_max(col(column))).collect()[0][0]\n",
        "        min_max_values[column] = (min_value, max_value)\n",
        "\n",
        "    normalized_data = df\n",
        "    for column, (min_value, max_value) in min_max_values.items():\n",
        "        new_column_name = f\"{column}_normalized\"\n",
        "        normalized_data = normalized_data.withColumn(\n",
        "            new_column_name, (col(column) - min_value) / (max_value - min_value)\n",
        "        ).drop(column)\n",
        "\n",
        "    return normalized_data\n",
        "\n",
        "columns = ['age', 'campaign']\n",
        "normalize_df = normalize_dataframe(df, columns)"
      ],
      "metadata": {
        "id": "-nE7-acr5Z2L"
      },
      "execution_count": null,
      "outputs": []
    },
    {
      "cell_type": "code",
      "source": [
        "normalize_df = normalize_df.drop('age')\n",
        "normalize_df = normalize_df.drop('campaign')\n",
        "\n",
        "selected_cols = ['age_normalized', 'campaign_normalized']\n",
        "\n",
        "summary_df = normalize_df.select(selected_cols).describe()\n",
        "summary_df.show()"
      ],
      "metadata": {
        "colab": {
          "base_uri": "https://localhost:8080/"
        },
        "id": "9FVJhoan5bVt",
        "outputId": "c4a8cc9e-2aa1-48f1-edc9-906bfbc096c5"
      },
      "execution_count": null,
      "outputs": [
        {
          "output_type": "stream",
          "name": "stdout",
          "text": [
            "+-------+-------------------+-------------------+\n",
            "|summary|     age_normalized|campaign_normalized|\n",
            "+-------+-------------------+-------------------+\n",
            "|  count|              42639|              42639|\n",
            "|   mean|0.45453411196322185| 0.2849410164404057|\n",
            "| stddev|0.19998166575599338| 0.3227537821755687|\n",
            "|    min|                0.0|                0.0|\n",
            "|    max|                1.0|                1.0|\n",
            "+-------+-------------------+-------------------+\n",
            "\n"
          ]
        }
      ]
    },
    {
      "cell_type": "code",
      "source": [
        "# Chuyển thuộc tính term_deposit về cuối\n",
        "selected_cols = [col for col in normalize_df.columns if col != 'term_deposit']\n",
        "term_deposit_col = col('term_deposit')\n",
        "\n",
        "new_df = normalize_df.select(selected_cols + [term_deposit_col])\n",
        "new_df.show()"
      ],
      "metadata": {
        "colab": {
          "base_uri": "https://localhost:8080/"
        },
        "id": "kBuhFf3u5e8Y",
        "outputId": "a4270dd2-8c86-495e-ccf9-a6a53ebbe869"
      },
      "execution_count": null,
      "outputs": [
        {
          "output_type": "stream",
          "name": "stdout",
          "text": [
            "+-------+-------+-------+----+---+-----+-----+--------+-----------+-----------------+------------------+-------------------+--------------+-------------------+------------+\n",
            "|marital|default|housing|loan|day|month|pdays|previous|job_indexed|education_indexed|balance_normalized|duration_normalized|age_normalized|campaign_normalized|term_deposit|\n",
            "+-------+-------+-------+----+---+-----+-----+--------+-----------+-----------------+------------------+-------------------+--------------+-------------------+------------+\n",
            "|      2|      0|      1|   0|  5|    5|   -1|       0|          1|                1|       0.849311927|        0.466905188|           0.8|                0.0|           0|\n",
            "|      1|      0|      1|   0|  5|    5|   -1|       0|          2|                0|       0.364449541|        0.270125224|          0.52|                0.0|           0|\n",
            "|      2|      0|      1|   1|  5|    5|   -1|       0|          7|                0|       0.358256881|        0.135957066|           0.3|                0.0|           0|\n",
            "|      2|      0|      1|   0|  5|    5|   -1|       0|          0|                3|       0.703211009|        0.164579606|          0.58|                0.0|           0|\n",
            "|      1|      0|      0|   0|  5|    5|   -1|       0|         11|                3|       0.358027523|        0.354203936|           0.3|                0.0|           0|\n",
            "|      2|      0|      1|   0|  5|    5|   -1|       0|          1|                1|       0.410779817|        0.248658318|          0.34|                0.0|           0|\n",
            "|      1|      0|      1|   1|  5|    5|   -1|       0|          1|                1|       0.460321101|        0.388193202|           0.2|                0.0|           0|\n",
            "|      0|      1|      1|   0|  5|    5|   -1|       0|          7|                1|       0.358256881|        0.679785331|          0.48|                0.0|           0|\n",
            "|      2|      0|      1|   0|  5|    5|   -1|       0|          5|                2|       0.385550459|        0.089445438|           0.8|                0.0|           0|\n",
            "|      1|      0|      1|   0|  5|    5|   -1|       0|          2|                0|       0.493807339|        0.098389982|           0.5|                0.0|           0|\n",
            "|      0|      0|      1|   0|  5|    5|   -1|       0|          3|                0|       0.419724771|        0.397137746|          0.46|                0.0|           0|\n",
            "|      1|      0|      1|   0|  5|    5|   -1|       0|          3|                0|       0.447247706|        0.245080501|          0.22|                0.0|           0|\n",
            "|      2|      0|      1|   0|  5|    5|   -1|       0|          2|                0|       0.359174312|        0.924865832|           0.7|                0.0|           0|\n",
            "|      2|      0|      1|   0|  5|    5|   -1|       0|          2|                3|       0.374082569|        0.127012522|           0.8|                0.0|           0|\n",
            "|      2|      0|      1|   0|  5|    5|   -1|       0|          4|                0|       0.394954128|        0.311270125|          0.78|                0.0|           0|\n",
            "|      2|      0|      1|   0|  5|    5|   -1|       0|          5|                2|       0.410321101|        0.631484794|          0.66|                0.0|           0|\n",
            "|      1|      0|      1|   0|  5|    5|   -1|       0|          3|                3|       0.360779817|        0.175313059|          0.54|                0.0|           0|\n",
            "|      2|      0|      1|   0|  5|    5|   -1|       0|          0|                2|       0.369724771|        0.067978533|          0.78|                0.0|           0|\n",
            "|      2|      0|      1|   0|  5|    5|   -1|       0|          5|                2|       0.371559633|         0.39177102|          0.84|                0.0|           0|\n",
            "|      2|      0|      1|   0|  5|    5|   -1|       0|          4|                0|       0.357798165|        0.096601073|           0.3|                0.0|           0|\n",
            "+-------+-------+-------+----+---+-----+-----+--------+-----------+-----------------+------------------+-------------------+--------------+-------------------+------------+\n",
            "only showing top 20 rows\n",
            "\n"
          ]
        }
      ]
    },
    {
      "cell_type": "code",
      "execution_count": null,
      "metadata": {
        "id": "aqYfnUlNo5HZ"
      },
      "outputs": [],
      "source": [
        "def pyspark_get_dummies(df, cols):\n",
        "    new_cols = []\n",
        "\n",
        "    for col_name in cols:\n",
        "        distinct_values = df.select(col_name).distinct().rdd.flatMap(lambda x: x).collect()\n",
        "\n",
        "        for value in distinct_values:\n",
        "\n",
        "            new_col_name = col_name + \"_\" + str(value)\n",
        "            new_cols.append(new_col_name)\n",
        "\n",
        "            df = df.withColumn(new_col_name, when(col(col_name) == value, lit(1)).otherwise(lit(0)))\n",
        "\n",
        "    df = df.drop(*cols)\n",
        "\n",
        "    return df"
      ]
    },
    {
      "cell_type": "code",
      "execution_count": null,
      "metadata": {
        "colab": {
          "base_uri": "https://localhost:8080/"
        },
        "id": "_1J1-qFVpdDQ",
        "outputId": "42119899-1d4f-4fac-9545-aa8b7482460f"
      },
      "outputs": [
        {
          "output_type": "stream",
          "name": "stdout",
          "text": [
            "+-------+-------+----+-----+--------+------------------+-------------------+--------------+-------------------+------------+---------+---------+---------+------+------+------+------+------+------+-----+------+-----+------+-----+------+-----+------+------+-----+------+-----+-----+------+-----+------+------+------+------+------+------+------+-----+------+------+--------+-------+-------+-------+-------+-------+-------+-------+-------+--------+--------+-------+-------------+-------------+-------------+-------------+-------------+-------------+-------------+-------------+--------------+--------------+-------------+-------------+-------------------+-------------------+-------------------+-------------------+\n",
            "|default|housing|loan|pdays|previous|balance_normalized|duration_normalized|age_normalized|campaign_normalized|term_deposit|marital_1|marital_2|marital_0|day_31|day_28|day_26|day_27|day_12|day_22|day_1|day_13|day_6|day_16|day_3|day_20|day_5|day_19|day_15|day_9|day_17|day_4|day_8|day_23|day_7|day_10|day_25|day_24|day_29|day_21|day_11|day_14|day_2|day_30|day_18|month_12|month_1|month_6|month_3|month_5|month_9|month_4|month_8|month_7|month_10|month_11|month_2|job_indexed_1|job_indexed_6|job_indexed_3|job_indexed_5|job_indexed_9|job_indexed_4|job_indexed_8|job_indexed_7|job_indexed_10|job_indexed_11|job_indexed_2|job_indexed_0|education_indexed_1|education_indexed_3|education_indexed_2|education_indexed_0|\n",
            "+-------+-------+----+-----+--------+------------------+-------------------+--------------+-------------------+------------+---------+---------+---------+------+------+------+------+------+------+-----+------+-----+------+-----+------+-----+------+------+-----+------+-----+-----+------+-----+------+------+------+------+------+------+------+-----+------+------+--------+-------+-------+-------+-------+-------+-------+-------+-------+--------+--------+-------+-------------+-------------+-------------+-------------+-------------+-------------+-------------+-------------+--------------+--------------+-------------+-------------+-------------------+-------------------+-------------------+-------------------+\n",
            "|      0|      1|   0|   -1|       0|       0.849311927|        0.466905188|           0.8|                0.0|           0|        0|        1|        0|     0|     0|     0|     0|     0|     0|    0|     0|    0|     0|    0|     0|    1|     0|     0|    0|     0|    0|    0|     0|    0|     0|     0|     0|     0|     0|     0|     0|    0|     0|     0|       0|      0|      0|      0|      1|      0|      0|      0|      0|       0|       0|      0|            1|            0|            0|            0|            0|            0|            0|            0|             0|             0|            0|            0|                  1|                  0|                  0|                  0|\n",
            "|      0|      1|   0|   -1|       0|       0.364449541|        0.270125224|          0.52|                0.0|           0|        1|        0|        0|     0|     0|     0|     0|     0|     0|    0|     0|    0|     0|    0|     0|    1|     0|     0|    0|     0|    0|    0|     0|    0|     0|     0|     0|     0|     0|     0|     0|    0|     0|     0|       0|      0|      0|      0|      1|      0|      0|      0|      0|       0|       0|      0|            0|            0|            0|            0|            0|            0|            0|            0|             0|             0|            1|            0|                  0|                  0|                  0|                  1|\n",
            "|      0|      1|   1|   -1|       0|       0.358256881|        0.135957066|           0.3|                0.0|           0|        0|        1|        0|     0|     0|     0|     0|     0|     0|    0|     0|    0|     0|    0|     0|    1|     0|     0|    0|     0|    0|    0|     0|    0|     0|     0|     0|     0|     0|     0|     0|    0|     0|     0|       0|      0|      0|      0|      1|      0|      0|      0|      0|       0|       0|      0|            0|            0|            0|            0|            0|            0|            0|            1|             0|             0|            0|            0|                  0|                  0|                  0|                  1|\n",
            "|      0|      1|   0|   -1|       0|       0.703211009|        0.164579606|          0.58|                0.0|           0|        0|        1|        0|     0|     0|     0|     0|     0|     0|    0|     0|    0|     0|    0|     0|    1|     0|     0|    0|     0|    0|    0|     0|    0|     0|     0|     0|     0|     0|     0|     0|    0|     0|     0|       0|      0|      0|      0|      1|      0|      0|      0|      0|       0|       0|      0|            0|            0|            0|            0|            0|            0|            0|            0|             0|             0|            0|            1|                  0|                  1|                  0|                  0|\n",
            "|      0|      0|   0|   -1|       0|       0.358027523|        0.354203936|           0.3|                0.0|           0|        1|        0|        0|     0|     0|     0|     0|     0|     0|    0|     0|    0|     0|    0|     0|    1|     0|     0|    0|     0|    0|    0|     0|    0|     0|     0|     0|     0|     0|     0|     0|    0|     0|     0|       0|      0|      0|      0|      1|      0|      0|      0|      0|       0|       0|      0|            0|            0|            0|            0|            0|            0|            0|            0|             0|             1|            0|            0|                  0|                  1|                  0|                  0|\n",
            "|      0|      1|   0|   -1|       0|       0.410779817|        0.248658318|          0.34|                0.0|           0|        0|        1|        0|     0|     0|     0|     0|     0|     0|    0|     0|    0|     0|    0|     0|    1|     0|     0|    0|     0|    0|    0|     0|    0|     0|     0|     0|     0|     0|     0|     0|    0|     0|     0|       0|      0|      0|      0|      1|      0|      0|      0|      0|       0|       0|      0|            1|            0|            0|            0|            0|            0|            0|            0|             0|             0|            0|            0|                  1|                  0|                  0|                  0|\n",
            "|      0|      1|   1|   -1|       0|       0.460321101|        0.388193202|           0.2|                0.0|           0|        1|        0|        0|     0|     0|     0|     0|     0|     0|    0|     0|    0|     0|    0|     0|    1|     0|     0|    0|     0|    0|    0|     0|    0|     0|     0|     0|     0|     0|     0|     0|    0|     0|     0|       0|      0|      0|      0|      1|      0|      0|      0|      0|       0|       0|      0|            1|            0|            0|            0|            0|            0|            0|            0|             0|             0|            0|            0|                  1|                  0|                  0|                  0|\n",
            "|      1|      1|   0|   -1|       0|       0.358256881|        0.679785331|          0.48|                0.0|           0|        0|        0|        1|     0|     0|     0|     0|     0|     0|    0|     0|    0|     0|    0|     0|    1|     0|     0|    0|     0|    0|    0|     0|    0|     0|     0|     0|     0|     0|     0|     0|    0|     0|     0|       0|      0|      0|      0|      1|      0|      0|      0|      0|       0|       0|      0|            0|            0|            0|            0|            0|            0|            0|            1|             0|             0|            0|            0|                  1|                  0|                  0|                  0|\n",
            "|      0|      1|   0|   -1|       0|       0.385550459|        0.089445438|           0.8|                0.0|           0|        0|        1|        0|     0|     0|     0|     0|     0|     0|    0|     0|    0|     0|    0|     0|    1|     0|     0|    0|     0|    0|    0|     0|    0|     0|     0|     0|     0|     0|     0|     0|    0|     0|     0|       0|      0|      0|      0|      1|      0|      0|      0|      0|       0|       0|      0|            0|            0|            0|            1|            0|            0|            0|            0|             0|             0|            0|            0|                  0|                  0|                  1|                  0|\n",
            "|      0|      1|   0|   -1|       0|       0.493807339|        0.098389982|           0.5|                0.0|           0|        1|        0|        0|     0|     0|     0|     0|     0|     0|    0|     0|    0|     0|    0|     0|    1|     0|     0|    0|     0|    0|    0|     0|    0|     0|     0|     0|     0|     0|     0|     0|    0|     0|     0|       0|      0|      0|      0|      1|      0|      0|      0|      0|       0|       0|      0|            0|            0|            0|            0|            0|            0|            0|            0|             0|             0|            1|            0|                  0|                  0|                  0|                  1|\n",
            "|      0|      1|   0|   -1|       0|       0.419724771|        0.397137746|          0.46|                0.0|           0|        0|        0|        1|     0|     0|     0|     0|     0|     0|    0|     0|    0|     0|    0|     0|    1|     0|     0|    0|     0|    0|    0|     0|    0|     0|     0|     0|     0|     0|     0|     0|    0|     0|     0|       0|      0|      0|      0|      1|      0|      0|      0|      0|       0|       0|      0|            0|            0|            1|            0|            0|            0|            0|            0|             0|             0|            0|            0|                  0|                  0|                  0|                  1|\n",
            "|      0|      1|   0|   -1|       0|       0.447247706|        0.245080501|          0.22|                0.0|           0|        1|        0|        0|     0|     0|     0|     0|     0|     0|    0|     0|    0|     0|    0|     0|    1|     0|     0|    0|     0|    0|    0|     0|    0|     0|     0|     0|     0|     0|     0|     0|    0|     0|     0|       0|      0|      0|      0|      1|      0|      0|      0|      0|       0|       0|      0|            0|            0|            1|            0|            0|            0|            0|            0|             0|             0|            0|            0|                  0|                  0|                  0|                  1|\n",
            "|      0|      1|   0|   -1|       0|       0.359174312|        0.924865832|           0.7|                0.0|           0|        0|        1|        0|     0|     0|     0|     0|     0|     0|    0|     0|    0|     0|    0|     0|    1|     0|     0|    0|     0|    0|    0|     0|    0|     0|     0|     0|     0|     0|     0|     0|    0|     0|     0|       0|      0|      0|      0|      1|      0|      0|      0|      0|       0|       0|      0|            0|            0|            0|            0|            0|            0|            0|            0|             0|             0|            1|            0|                  0|                  0|                  0|                  1|\n",
            "|      0|      1|   0|   -1|       0|       0.374082569|        0.127012522|           0.8|                0.0|           0|        0|        1|        0|     0|     0|     0|     0|     0|     0|    0|     0|    0|     0|    0|     0|    1|     0|     0|    0|     0|    0|    0|     0|    0|     0|     0|     0|     0|     0|     0|     0|    0|     0|     0|       0|      0|      0|      0|      1|      0|      0|      0|      0|       0|       0|      0|            0|            0|            0|            0|            0|            0|            0|            0|             0|             0|            1|            0|                  0|                  1|                  0|                  0|\n",
            "|      0|      1|   0|   -1|       0|       0.394954128|        0.311270125|          0.78|                0.0|           0|        0|        1|        0|     0|     0|     0|     0|     0|     0|    0|     0|    0|     0|    0|     0|    1|     0|     0|    0|     0|    0|    0|     0|    0|     0|     0|     0|     0|     0|     0|     0|    0|     0|     0|       0|      0|      0|      0|      1|      0|      0|      0|      0|       0|       0|      0|            0|            0|            0|            0|            0|            1|            0|            0|             0|             0|            0|            0|                  0|                  0|                  0|                  1|\n",
            "|      0|      1|   0|   -1|       0|       0.410321101|        0.631484794|          0.66|                0.0|           0|        0|        1|        0|     0|     0|     0|     0|     0|     0|    0|     0|    0|     0|    0|     0|    1|     0|     0|    0|     0|    0|    0|     0|    0|     0|     0|     0|     0|     0|     0|     0|    0|     0|     0|       0|      0|      0|      0|      1|      0|      0|      0|      0|       0|       0|      0|            0|            0|            0|            1|            0|            0|            0|            0|             0|             0|            0|            0|                  0|                  0|                  1|                  0|\n",
            "|      0|      1|   0|   -1|       0|       0.360779817|        0.175313059|          0.54|                0.0|           0|        1|        0|        0|     0|     0|     0|     0|     0|     0|    0|     0|    0|     0|    0|     0|    1|     0|     0|    0|     0|    0|    0|     0|    0|     0|     0|     0|     0|     0|     0|     0|    0|     0|     0|       0|      0|      0|      0|      1|      0|      0|      0|      0|       0|       0|      0|            0|            0|            1|            0|            0|            0|            0|            0|             0|             0|            0|            0|                  0|                  1|                  0|                  0|\n",
            "|      0|      1|   0|   -1|       0|       0.369724771|        0.067978533|          0.78|                0.0|           0|        0|        1|        0|     0|     0|     0|     0|     0|     0|    0|     0|    0|     0|    0|     0|    1|     0|     0|    0|     0|    0|    0|     0|    0|     0|     0|     0|     0|     0|     0|     0|    0|     0|     0|       0|      0|      0|      0|      1|      0|      0|      0|      0|       0|       0|      0|            0|            0|            0|            0|            0|            0|            0|            0|             0|             0|            0|            1|                  0|                  0|                  1|                  0|\n",
            "|      0|      1|   0|   -1|       0|       0.371559633|         0.39177102|          0.84|                0.0|           0|        0|        1|        0|     0|     0|     0|     0|     0|     0|    0|     0|    0|     0|    0|     0|    1|     0|     0|    0|     0|    0|    0|     0|    0|     0|     0|     0|     0|     0|     0|     0|    0|     0|     0|       0|      0|      0|      0|      1|      0|      0|      0|      0|       0|       0|      0|            0|            0|            0|            1|            0|            0|            0|            0|             0|             0|            0|            0|                  0|                  0|                  1|                  0|\n",
            "|      0|      1|   0|   -1|       0|       0.357798165|        0.096601073|           0.3|                0.0|           0|        0|        1|        0|     0|     0|     0|     0|     0|     0|    0|     0|    0|     0|    0|     0|    1|     0|     0|    0|     0|    0|    0|     0|    0|     0|     0|     0|     0|     0|     0|     0|    0|     0|     0|       0|      0|      0|      0|      1|      0|      0|      0|      0|       0|       0|      0|            0|            0|            0|            0|            0|            1|            0|            0|             0|             0|            0|            0|                  0|                  0|                  0|                  1|\n",
            "+-------+-------+----+-----+--------+------------------+-------------------+--------------+-------------------+------------+---------+---------+---------+------+------+------+------+------+------+-----+------+-----+------+-----+------+-----+------+------+-----+------+-----+-----+------+-----+------+------+------+------+------+------+------+-----+------+------+--------+-------+-------+-------+-------+-------+-------+-------+-------+--------+--------+-------+-------------+-------------+-------------+-------------+-------------+-------------+-------------+-------------+--------------+--------------+-------------+-------------+-------------------+-------------------+-------------------+-------------------+\n",
            "only showing top 20 rows\n",
            "\n"
          ]
        }
      ],
      "source": [
        "cols_to_encode = [\"marital\", \"day\", \"month\", \"job_indexed\", \"education_indexed\"]\n",
        "\n",
        "encoded_df = pyspark_get_dummies(new_df, cols_to_encode)\n",
        "\n",
        "encoded_df.show()"
      ]
    },
    {
      "cell_type": "code",
      "execution_count": null,
      "metadata": {
        "id": "XN3usyxMq3wL"
      },
      "outputs": [],
      "source": [
        "train_data, test_data = encoded_df.randomSplit([0.8, 0.2], seed=42)\n",
        "\n",
        "X_train = train_data.drop('term_deposit')\n",
        "X_train = X_train.withColumn('intercept', lit(1))\n",
        "y_train = train_data.select('term_deposit')\n",
        "\n",
        "X_test = test_data.drop('term_deposit')\n",
        "X_test = X_test.withColumn('intercept', lit(1))\n",
        "y_test = test_data.select('term_deposit')"
      ]
    },
    {
      "cell_type": "code",
      "execution_count": 111,
      "metadata": {
        "id": "Y4cV1uEO0xBo"
      },
      "outputs": [],
      "source": [
        "X_train_rdd = X_train.rdd.map(lambda row: np.array(row));\n",
        "y_train_rdd = y_train.rdd.map(lambda row: row['term_deposit'])\n",
        "y_train_rdd = y_train_rdd.map(lambda x: 1 if x == 1 else -1)\n",
        "\n",
        "X_test_rdd = X_test.rdd.map(lambda row: np.array(row));\n",
        "y_test_rdd = y_test.rdd.map(lambda row: row['term_deposit'])\n",
        "y_test_rdd = y_test_rdd.map(lambda x: 1 if x == 1 else -1)\n",
        "\n",
        "train_rdd = X_train_rdd.zip(y_train_rdd)\n",
        "test_rdd = X_test_rdd.zip(y_test_rdd)\n",
        "\n",
        "num_partitions = 4\n",
        "train_rdd = train_rdd.repartition(num_partitions)"
      ]
    },
    {
      "cell_type": "code",
      "execution_count": 117,
      "metadata": {
        "id": "e_8NsTzImLv6"
      },
      "outputs": [],
      "source": [
        "def svm_predict(W, X):\n",
        "  pred = np.dot(X, W)\n",
        "  result = 1 if pred > 0 else -1\n",
        "  return result\n",
        "\n",
        "def svm_calculate_cost_gradient(data_iter,W):\n",
        "  reg_strength = 10000\n",
        "  data = list(data_iter)\n",
        "  if len(data) == 0:\n",
        "      return np.zeros(len(data[0][0]))\n",
        "  X_batch = []\n",
        "  Y_batch = []\n",
        "  for features, label in data:\n",
        "      X_batch.append(features)\n",
        "      Y_batch.append(label)\n",
        "  distance = 1 - (Y_batch * np.dot(X_batch, W))\n",
        "  dw = np.zeros(len(data[0][0]))\n",
        "  for ind, d in enumerate(distance):\n",
        "      if max(0, d) == 0:\n",
        "          di = W\n",
        "      else:\n",
        "          di = W - (reg_strength * Y_batch[ind] * X_batch[ind])\n",
        "      dw += di\n",
        "  dw = dw/len(Y_batch)\n",
        "  return [dw]\n",
        "\n",
        "def svm_combine_cost_gradient(dw1, dw2):\n",
        "  return (dw1 + dw2)\n",
        "\n",
        "def svm_sgd(X, alpha = 0.01, threshold = 0.0001, n_iterations = 5000):\n",
        "  num_partitions = X.getNumPartitions()\n",
        "  weights = np.zeros(len(X.first()[0]))\n",
        "  prev_gradient = np.inf\n",
        "  for i in range(n_iterations):\n",
        "    gradient = X.mapPartitions(lambda partition: svm_calculate_cost_gradient(partition,weights)).reduce(svm_combine_cost_gradient) / num_partitions\n",
        "    if np.linalg.norm(prev_gradient - gradient) < threshold:\n",
        "        break\n",
        "    weights = weights - alpha * gradient\n",
        "    prev_gradient = gradient\n",
        "  return weights"
      ]
    },
    {
      "cell_type": "code",
      "source": [
        "import time\n",
        "start_time = time.time()\n",
        "\n",
        "svm_weights = svm_sgd(train_rdd)\n",
        "\n",
        "end_time = time.time()"
      ],
      "metadata": {
        "id": "CueA-WgBGqJ4"
      },
      "execution_count": null,
      "outputs": []
    },
    {
      "cell_type": "code",
      "source": [
        "predictions_rdd = test_rdd.map(lambda x: (x[1], svm_predict(svm_weights, x[0])))"
      ],
      "metadata": {
        "id": "4IHH3oO_ZFF3"
      },
      "execution_count": 120,
      "outputs": []
    },
    {
      "cell_type": "code",
      "source": [
        "predictions = predictions_rdd.collect()\n",
        "predictions_df = spark.createDataFrame(predictions_rdd, [\"actual\", \"prediction\"])\n",
        "predictions_df = predictions_df.withColumn(\"actual\", when(col(\"actual\") == -1, 0).otherwise(col(\"actual\")))\n",
        "predictions_df = predictions_df.withColumn(\"prediction\", when(col(\"prediction\") == -1, 0).otherwise(col(\"prediction\")))\n",
        "\n",
        "accuracy = predictions_df.filter(predictions_df.prediction == predictions_df.actual).count() / predictions_df.count()\n",
        "\n",
        "print(f\"Accuracy: {accuracy}\")\n",
        "print(f\"Time running: {end_time - start_time}s\")\n",
        "\n",
        "confusion_matrix = predictions_df.groupBy(\"actual\", \"prediction\").count()\n",
        "labels = [0, 1]\n",
        "predictions = [0, 1]\n",
        "all_combinations = [(l, p) for l in labels for p in predictions]\n",
        "all_combinations_df = spark.createDataFrame(all_combinations, [\"actual\", \"prediction\"])\n",
        "confusion_matrix_full = all_combinations_df.join(confusion_matrix, on=[\"actual\", \"prediction\"], how=\"left\").fillna(0)\n",
        "confusion_matrix_full.show()\n"
      ],
      "metadata": {
        "colab": {
          "base_uri": "https://localhost:8080/"
        },
        "id": "4l8yArzKbUQa",
        "outputId": "0d294228-a619-4164-ff15-e4f2e2cabb70"
      },
      "execution_count": 121,
      "outputs": [
        {
          "output_type": "stream",
          "name": "stdout",
          "text": [
            "Accuracy: 0.7287757973733584\n",
            "Time running: 4145.118417263031s\n",
            "+------+----------+-----+\n",
            "|actual|prediction|count|\n",
            "+------+----------+-----+\n",
            "|     0|         1| 2243|\n",
            "|     0|         0| 5484|\n",
            "|     1|         0|   70|\n",
            "|     1|         1|  731|\n",
            "+------+----------+-----+\n",
            "\n"
          ]
        }
      ]
    },
    {
      "cell_type": "code",
      "source": [
        "# Collect data for plotting\n",
        "confusion_matrix_data = confusion_matrix_full.collect()\n",
        "\n",
        "# Prepare data for the heatmap\n",
        "matrix = np.zeros((2, 2))\n",
        "for row in confusion_matrix_data:\n",
        "    matrix[int(row['actual']), int(row['prediction'])] = row['count']\n",
        "\n",
        "# Plot the confusion matrix\n",
        "plt.figure(figsize=(10, 7))\n",
        "sns.heatmap(matrix, annot=True, fmt='g', cmap='Blues', xticklabels=[0, 1], yticklabels=[0, 1])\n",
        "plt.xlabel('Predicted')\n",
        "plt.ylabel('Actual')\n",
        "plt.title('Confusion Matrix')\n",
        "plt.show()"
      ],
      "metadata": {
        "colab": {
          "base_uri": "https://localhost:8080/",
          "height": 641
        },
        "id": "H0qdOhu1Lk_1",
        "outputId": "cb456aaf-bbf4-4847-9ccb-d5eaf351d60b"
      },
      "execution_count": 122,
      "outputs": [
        {
          "output_type": "display_data",
          "data": {
            "text/plain": [
              "<Figure size 1000x700 with 2 Axes>"
            ],
            "image/png": "[encoded data removed]"
          },
          "metadata": {}
        }
      ]
    },
    {
      "cell_type": "code",
      "execution_count": null,
      "metadata": {
        "id": "lSHsDNt5i_oz"
      },
      "outputs": [],
      "source": [
        "spark.stop()"
      ]
    }
  ],
  "metadata": {
    "colab": {
      "provenance": []
    },
    "kernelspec": {
      "display_name": "Python 3",
      "name": "python3"
    },
    "language_info": {
      "codemirror_mode": {
        "name": "ipython",
        "version": 3
      },
      "file_extension": ".py",
      "mimetype": "text/x-python",
      "name": "python",
      "nbconvert_exporter": "python",
      "pygments_lexer": "ipython3",
      "version": "3.11.4"
    }
  },
  "nbformat": 4,
  "nbformat_minor": 0
}